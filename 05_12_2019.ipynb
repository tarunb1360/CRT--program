{
  "nbformat": 4,
  "nbformat_minor": 0,
  "metadata": {
    "colab": {
      "name": "05-12-2019",
      "provenance": []
    },
    "kernelspec": {
      "name": "python3",
      "display_name": "Python 3"
    }
  },
  "cells": [
    {
      "cell_type": "code",
      "metadata": {
        "id": "6iQMsc2wPAff",
        "colab_type": "code",
        "colab": {
          "base_uri": "https://localhost:8080/",
          "height": 34
        },
        "outputId": "259d6c0d-a6fb-4c01-a43e-adf4b70b96b7"
      },
      "source": [
        "li = [1,2,3,4,5]\n",
        "print(len(li))"
      ],
      "execution_count": 2,
      "outputs": [
        {
          "output_type": "stream",
          "text": [
            "5\n"
          ],
          "name": "stdout"
        }
      ]
    },
    {
      "cell_type": "code",
      "metadata": {
        "id": "CnoeIX3JPO5N",
        "colab_type": "code",
        "colab": {
          "base_uri": "https://localhost:8080/",
          "height": 34
        },
        "outputId": "05fc9335-6ade-408d-87ea-17b8220ccd42"
      },
      "source": [
        "li[2] = 1954\n",
        "print(li)"
      ],
      "execution_count": 3,
      "outputs": [
        {
          "output_type": "stream",
          "text": [
            "[1, 2, 1954, 4, 5]\n"
          ],
          "name": "stdout"
        }
      ]
    },
    {
      "cell_type": "code",
      "metadata": {
        "id": "LtnYzJ7OPelO",
        "colab_type": "code",
        "colab": {}
      },
      "source": [
        "del li[3]"
      ],
      "execution_count": 0,
      "outputs": []
    },
    {
      "cell_type": "code",
      "metadata": {
        "id": "tyRCp_S9Pj1N",
        "colab_type": "code",
        "colab": {
          "base_uri": "https://localhost:8080/",
          "height": 34
        },
        "outputId": "112e89d5-0166-4292-bceb-87377e2c2422"
      },
      "source": [
        "print(li)"
      ],
      "execution_count": 5,
      "outputs": [
        {
          "output_type": "stream",
          "text": [
            "[1, 2, 1954, 5]\n"
          ],
          "name": "stdout"
        }
      ]
    },
    {
      "cell_type": "code",
      "metadata": {
        "id": "jzfyKtoDPoGN",
        "colab_type": "code",
        "colab": {
          "base_uri": "https://localhost:8080/",
          "height": 85
        },
        "outputId": "e9437cc4-2632-417d-d149-68f7e26ba0c3"
      },
      "source": [
        "print(li[-2])\n",
        "print(li[-3])\n",
        "print(li[1:4])\n",
        "print(li[2:4])"
      ],
      "execution_count": 16,
      "outputs": [
        {
          "output_type": "stream",
          "text": [
            "1954\n",
            "2\n",
            "[2, 1954, 5]\n",
            "[1954, 5]\n"
          ],
          "name": "stdout"
        }
      ]
    },
    {
      "cell_type": "code",
      "metadata": {
        "id": "VnVZulkaSs_V",
        "colab_type": "code",
        "colab": {
          "base_uri": "https://localhost:8080/",
          "height": 34
        },
        "outputId": "d2bce470-5f5a-4c83-fc48-f7265d416a97"
      },
      "source": [
        "print(sum(li))"
      ],
      "execution_count": 17,
      "outputs": [
        {
          "output_type": "stream",
          "text": [
            "1962\n"
          ],
          "name": "stdout"
        }
      ]
    },
    {
      "cell_type": "code",
      "metadata": {
        "id": "kmrz53G3T5y2",
        "colab_type": "code",
        "colab": {
          "base_uri": "https://localhost:8080/",
          "height": 34
        },
        "outputId": "a959a2c9-847f-4dfc-a4a8-0f455e0937a5"
      },
      "source": [
        "print(min(li))"
      ],
      "execution_count": 18,
      "outputs": [
        {
          "output_type": "stream",
          "text": [
            "1\n"
          ],
          "name": "stdout"
        }
      ]
    },
    {
      "cell_type": "code",
      "metadata": {
        "id": "OwBlTz-JT9yN",
        "colab_type": "code",
        "colab": {
          "base_uri": "https://localhost:8080/",
          "height": 34
        },
        "outputId": "7a213436-a825-49d2-e853-e5bdf29407f9"
      },
      "source": [
        "print(max(li))"
      ],
      "execution_count": 19,
      "outputs": [
        {
          "output_type": "stream",
          "text": [
            "1954\n"
          ],
          "name": "stdout"
        }
      ]
    },
    {
      "cell_type": "code",
      "metadata": {
        "id": "hMl1C93BUA3V",
        "colab_type": "code",
        "colab": {
          "base_uri": "https://localhost:8080/",
          "height": 34
        },
        "outputId": "1dfa3c65-ba60-48ad-8887-11fe4f7e36f0"
      },
      "source": [
        "print(sum(li) // len(li))"
      ],
      "execution_count": 23,
      "outputs": [
        {
          "output_type": "stream",
          "text": [
            "490\n"
          ],
          "name": "stdout"
        }
      ]
    },
    {
      "cell_type": "code",
      "metadata": {
        "id": "AP5EPve2U6I-",
        "colab_type": "code",
        "colab": {
          "base_uri": "https://localhost:8080/",
          "height": 34
        },
        "outputId": "fe8927be-2584-47d0-afb3-13118efa007d"
      },
      "source": [
        "li"
      ],
      "execution_count": 24,
      "outputs": [
        {
          "output_type": "execute_result",
          "data": {
            "text/plain": [
              "[1, 2, 1954, 5]"
            ]
          },
          "metadata": {
            "tags": []
          },
          "execution_count": 24
        }
      ]
    },
    {
      "cell_type": "code",
      "metadata": {
        "id": "0z1lvv2RVqI2",
        "colab_type": "code",
        "colab": {
          "base_uri": "https://localhost:8080/",
          "height": 34
        },
        "outputId": "8fd9d4a3-4e3e-4ac9-e61c-50518a861f20"
      },
      "source": [
        "li.append(300)\n",
        "li"
      ],
      "execution_count": 35,
      "outputs": [
        {
          "output_type": "execute_result",
          "data": {
            "text/plain": [
              "[1, 2, 1954, 5, 300, 60, 60, 300, 100, 300]"
            ]
          },
          "metadata": {
            "tags": []
          },
          "execution_count": 35
        }
      ]
    },
    {
      "cell_type": "code",
      "metadata": {
        "id": "0-j4OqCuWVPt",
        "colab_type": "code",
        "colab": {
          "base_uri": "https://localhost:8080/",
          "height": 34
        },
        "outputId": "0ad5012c-e12b-4ca8-c6d1-44ad5a02730f"
      },
      "source": [
        "li.insert(5,60)\n",
        "li"
      ],
      "execution_count": 28,
      "outputs": [
        {
          "output_type": "execute_result",
          "data": {
            "text/plain": [
              "[1, 2, 1954, 5, 300, 60, 60, 300]"
            ]
          },
          "metadata": {
            "tags": []
          },
          "execution_count": 28
        }
      ]
    },
    {
      "cell_type": "code",
      "metadata": {
        "id": "ZtVf1SfSWk2u",
        "colab_type": "code",
        "colab": {
          "base_uri": "https://localhost:8080/",
          "height": 34
        },
        "outputId": "b79412b0-3645-4bf6-f104-2a49d79afe14"
      },
      "source": [
        "li.count(60)\n"
      ],
      "execution_count": 34,
      "outputs": [
        {
          "output_type": "execute_result",
          "data": {
            "text/plain": [
              "2"
            ]
          },
          "metadata": {
            "tags": []
          },
          "execution_count": 34
        }
      ]
    },
    {
      "cell_type": "code",
      "metadata": {
        "id": "RXGlJm-oWq0F",
        "colab_type": "code",
        "colab": {
          "base_uri": "https://localhost:8080/",
          "height": 34
        },
        "outputId": "4f6bb7d5-865e-410d-e3c3-b6aad2e185fe"
      },
      "source": [
        "li.index(60)"
      ],
      "execution_count": 37,
      "outputs": [
        {
          "output_type": "execute_result",
          "data": {
            "text/plain": [
              "5"
            ]
          },
          "metadata": {
            "tags": []
          },
          "execution_count": 37
        }
      ]
    },
    {
      "cell_type": "code",
      "metadata": {
        "id": "Ll-zIngDXngp",
        "colab_type": "code",
        "colab": {
          "base_uri": "https://localhost:8080/",
          "height": 34
        },
        "outputId": "cda88e32-1b93-4dc9-92c9-a6750a4d4ed8"
      },
      "source": [
        "li.index(60)+1"
      ],
      "execution_count": 38,
      "outputs": [
        {
          "output_type": "execute_result",
          "data": {
            "text/plain": [
              "6"
            ]
          },
          "metadata": {
            "tags": []
          },
          "execution_count": 38
        }
      ]
    },
    {
      "cell_type": "code",
      "metadata": {
        "id": "LoTJ_Hf7Xv1N",
        "colab_type": "code",
        "colab": {
          "base_uri": "https://localhost:8080/",
          "height": 34
        },
        "outputId": "a3202edd-18ae-44b0-b777-8fc827e95ae0"
      },
      "source": [
        "li.sort()\n",
        "li"
      ],
      "execution_count": 39,
      "outputs": [
        {
          "output_type": "execute_result",
          "data": {
            "text/plain": [
              "[1, 2, 5, 60, 60, 100, 300, 300, 300, 1954]"
            ]
          },
          "metadata": {
            "tags": []
          },
          "execution_count": 39
        }
      ]
    },
    {
      "cell_type": "code",
      "metadata": {
        "id": "j6_wu6oWYoQt",
        "colab_type": "code",
        "colab": {
          "base_uri": "https://localhost:8080/",
          "height": 34
        },
        "outputId": "e80d5198-5fc5-4a45-f29a-a0b821d629be"
      },
      "source": [
        "li.pop()\n",
        "li"
      ],
      "execution_count": 40,
      "outputs": [
        {
          "output_type": "execute_result",
          "data": {
            "text/plain": [
              "[1, 2, 5, 60, 60, 100, 300, 300, 300]"
            ]
          },
          "metadata": {
            "tags": []
          },
          "execution_count": 40
        }
      ]
    },
    {
      "cell_type": "code",
      "metadata": {
        "id": "JyGpMA59Y8JN",
        "colab_type": "code",
        "colab": {
          "base_uri": "https://localhost:8080/",
          "height": 34
        },
        "outputId": "e433ecc2-8ac4-4668-e1e6-66f18457602d"
      },
      "source": [
        "li.pop(4)\n",
        "li"
      ],
      "execution_count": 45,
      "outputs": [
        {
          "output_type": "execute_result",
          "data": {
            "text/plain": [
              "[1, 2, 5, 60, 300]"
            ]
          },
          "metadata": {
            "tags": []
          },
          "execution_count": 45
        }
      ]
    },
    {
      "cell_type": "code",
      "metadata": {
        "id": "1DxvYCN7ZJUl",
        "colab_type": "code",
        "colab": {
          "base_uri": "https://localhost:8080/",
          "height": 34
        },
        "outputId": "21d3cc3e-503b-4c82-edb6-6ef15870f842"
      },
      "source": [
        "# define a function to findout second large of the list\n",
        "# li = [1,9,16,25,2,3,65]\n",
        "# output =25\n",
        "def secondlarge(li):\n",
        "  li.sort()\n",
        "  return li[-2]\n",
        "li = [1,9,16,25,2,3,65]\n",
        "secondlarge(li)"
      ],
      "execution_count": 46,
      "outputs": [
        {
          "output_type": "execute_result",
          "data": {
            "text/plain": [
              "25"
            ]
          },
          "metadata": {
            "tags": []
          },
          "execution_count": 46
        }
      ]
    },
    {
      "cell_type": "code",
      "metadata": {
        "id": "oP4oF8THazXA",
        "colab_type": "code",
        "colab": {
          "base_uri": "https://localhost:8080/",
          "height": 34
        },
        "outputId": "5a20bd29-13dc-4a99-bcc1-e4e6072c9df2"
      },
      "source": [
        "def genericlarge(li,n):\n",
        "  li.sort()\n",
        "  return li[-n]\n",
        "genericlarge(li,4)"
      ],
      "execution_count": 49,
      "outputs": [
        {
          "output_type": "execute_result",
          "data": {
            "text/plain": [
              "9"
            ]
          },
          "metadata": {
            "tags": []
          },
          "execution_count": 49
        }
      ]
    },
    {
      "cell_type": "code",
      "metadata": {
        "id": "oYYo-Hj5bx-V",
        "colab_type": "code",
        "colab": {
          "base_uri": "https://localhost:8080/",
          "height": 34
        },
        "outputId": "98c07975-97d2-487e-8121-3322d8d2806d"
      },
      "source": [
        "def genericleast(li,n):\n",
        "  li.sort()\n",
        "  return li[n]\n",
        "genericleast(li,2)"
      ],
      "execution_count": 52,
      "outputs": [
        {
          "output_type": "execute_result",
          "data": {
            "text/plain": [
              "3"
            ]
          },
          "metadata": {
            "tags": []
          },
          "execution_count": 52
        }
      ]
    },
    {
      "cell_type": "code",
      "metadata": {
        "id": "evOduOMwcTaO",
        "colab_type": "code",
        "colab": {}
      },
      "source": [
        ""
      ],
      "execution_count": 0,
      "outputs": []
    },
    {
      "cell_type": "markdown",
      "metadata": {
        "id": "LjzcWGNZd3_Q",
        "colab_type": "text"
      },
      "source": [
        "### Number to list conversions\n",
        "- 19563212 -[1,9,5,6,3,2,1,2]"
      ]
    },
    {
      "cell_type": "code",
      "metadata": {
        "id": "dj6lKnsufWQl",
        "colab_type": "code",
        "colab": {
          "base_uri": "https://localhost:8080/",
          "height": 34
        },
        "outputId": "a431a256-df51-4595-fa21-b688d8bc9e72"
      },
      "source": [
        "def numberTolist(n):\n",
        "  li = []\n",
        "  while n != 0:\n",
        "    r = n%10\n",
        "    li.append(r)\n",
        "    n = n // 10\n",
        "  li.reverse()\n",
        "  return li\n",
        "numberTolist(19563212)"
      ],
      "execution_count": 58,
      "outputs": [
        {
          "output_type": "execute_result",
          "data": {
            "text/plain": [
              "[1, 9, 5, 6, 3, 2, 1, 2]"
            ]
          },
          "metadata": {
            "tags": []
          },
          "execution_count": 58
        }
      ]
    },
    {
      "cell_type": "code",
      "metadata": {
        "id": "ZNtJLM4VgFu2",
        "colab_type": "code",
        "colab": {}
      },
      "source": [
        ""
      ],
      "execution_count": 0,
      "outputs": []
    },
    {
      "cell_type": "markdown",
      "metadata": {
        "id": "CiLptZKigoGB",
        "colab_type": "text"
      },
      "source": [
        "### Data structures - tuples\n",
        "- it is similar to list object\n",
        "- list will be enclossed in square brackets[] and tuples\n",
        "- will be enclosed wiht in parenthsis()\n",
        "- list can be increased / decreased and tuple is fixed so that\n",
        "- you cant increase and decrease the tuple\n",
        "- i means list is mutable and tuple is immutable\n",
        "- list is useful for read and write whereas tuple is useful for only reading"
      ]
    },
    {
      "cell_type": "code",
      "metadata": {
        "id": "-JFla3J9huSW",
        "colab_type": "code",
        "colab": {
          "base_uri": "https://localhost:8080/",
          "height": 163
        },
        "outputId": "9e9fa4ea-1902-4042-ab07-c8557a7bbf99"
      },
      "source": [
        "t1[2]=123\n"
      ],
      "execution_count": 64,
      "outputs": [
        {
          "output_type": "error",
          "ename": "NameError",
          "evalue": "ignored",
          "traceback": [
            "\u001b[0;31m---------------------------------------------------------------------------\u001b[0m",
            "\u001b[0;31mNameError\u001b[0m                                 Traceback (most recent call last)",
            "\u001b[0;32m<ipython-input-64-48d16e0f362b>\u001b[0m in \u001b[0;36m<module>\u001b[0;34m()\u001b[0m\n\u001b[0;32m----> 1\u001b[0;31m \u001b[0mt1\u001b[0m\u001b[0;34m[\u001b[0m\u001b[0;36m2\u001b[0m\u001b[0;34m]\u001b[0m\u001b[0;34m=\u001b[0m\u001b[0;36m123\u001b[0m\u001b[0;34m\u001b[0m\u001b[0;34m\u001b[0m\u001b[0m\n\u001b[0m",
            "\u001b[0;31mNameError\u001b[0m: name 't1' is not defined"
          ]
        }
      ]
    },
    {
      "cell_type": "code",
      "metadata": {
        "id": "LHD-UPdYiPU-",
        "colab_type": "code",
        "colab": {
          "base_uri": "https://localhost:8080/",
          "height": 34
        },
        "outputId": "408327e4-fe64-42fa-cb35-9abba7a437c0"
      },
      "source": [
        "t1=(4,8,6,9,5,10)\n",
        "t1"
      ],
      "execution_count": 68,
      "outputs": [
        {
          "output_type": "execute_result",
          "data": {
            "text/plain": [
              "(4, 8, 6, 9, 5, 10)"
            ]
          },
          "metadata": {
            "tags": []
          },
          "execution_count": 68
        }
      ]
    },
    {
      "cell_type": "code",
      "metadata": {
        "id": "y31rSkaEi919",
        "colab_type": "code",
        "colab": {}
      },
      "source": [
        ""
      ],
      "execution_count": 0,
      "outputs": []
    },
    {
      "cell_type": "markdown",
      "metadata": {
        "id": "9eTFWw2Yj1rG",
        "colab_type": "text"
      },
      "source": [
        "### Data structure dictionaries\n",
        "- this data structure object is works on set of keys and values\n",
        "- there will be unique key set will be defined\n",
        "- every key is separated from its value of colon(:)\n",
        "- every key and value pair is separated by comma(,)\n",
        "- it is defined with curly braces({})"
      ]
    },
    {
      "cell_type": "code",
      "metadata": {
        "id": "Tlf4hHijkoFZ",
        "colab_type": "code",
        "colab": {
          "base_uri": "https://localhost:8080/",
          "height": 34
        },
        "outputId": "8552bb6f-c866-4094-e0f2-e3c08d53c496"
      },
      "source": [
        "d1 = {\"name\": \"tarun\",\"mobile number\":7722008646,\"emailid\":\"tarunb475@gmail.com\"}\n",
        "print(d1)"
      ],
      "execution_count": 71,
      "outputs": [
        {
          "output_type": "stream",
          "text": [
            "{'name': 'tarun', 'mobile number': 7722008646, 'emailid': 'tarunb475@gmail.com'}\n"
          ],
          "name": "stdout"
        }
      ]
    },
    {
      "cell_type": "code",
      "metadata": {
        "id": "gxasUetumNzO",
        "colab_type": "code",
        "colab": {
          "base_uri": "https://localhost:8080/",
          "height": 34
        },
        "outputId": "1ff0e253-b063-4fcc-8f63-159f812cce9d"
      },
      "source": [
        "print(d1[\"emailid\"])"
      ],
      "execution_count": 73,
      "outputs": [
        {
          "output_type": "stream",
          "text": [
            "tarunb475@gmail.com\n"
          ],
          "name": "stdout"
        }
      ]
    },
    {
      "cell_type": "code",
      "metadata": {
        "id": "ex3l2WB1me0N",
        "colab_type": "code",
        "colab": {}
      },
      "source": [
        "del d1[\"emailid\"]"
      ],
      "execution_count": 0,
      "outputs": []
    },
    {
      "cell_type": "code",
      "metadata": {
        "id": "CUGu6KBZmtgG",
        "colab_type": "code",
        "colab": {
          "base_uri": "https://localhost:8080/",
          "height": 34
        },
        "outputId": "9a45ff66-8d09-4a5c-f56a-b0b491948dc9"
      },
      "source": [
        "(d1[\"mobile number\"])=8806322693\n",
        "print(d1)"
      ],
      "execution_count": 79,
      "outputs": [
        {
          "output_type": "stream",
          "text": [
            "{'name': 'tarun', 'mobile number': 8806322693}\n"
          ],
          "name": "stdout"
        }
      ]
    },
    {
      "cell_type": "code",
      "metadata": {
        "id": "U8Zbhqd2m5A2",
        "colab_type": "code",
        "colab": {}
      },
      "source": [
        ""
      ],
      "execution_count": 0,
      "outputs": []
    },
    {
      "cell_type": "markdown",
      "metadata": {
        "id": "z6wxhHDaolge",
        "colab_type": "text"
      },
      "source": [
        "### contact application\n",
        "- used concepts : dict,list,tuples\n"
      ]
    },
    {
      "cell_type": "markdown",
      "metadata": {
        "id": "o4sSxXn6tazD",
        "colab_type": "text"
      },
      "source": [
        "### Modules of contact application\n",
        "- add contacts\n",
        "- search contacts\n",
        "- import the new contact\n",
        "- update the contact details\n",
        "- delete the contact details\n"
      ]
    },
    {
      "cell_type": "code",
      "metadata": {
        "id": "v-4PqNLcotzs",
        "colab_type": "code",
        "colab": {
          "base_uri": "https://localhost:8080/",
          "height": 68
        },
        "outputId": "570b2f47-73e5-445a-e559-d1913d933708"
      },
      "source": [
        "contacts = {}\n",
        "def addcontacts(name,phone):\n",
        "  if name not in contacts:\n",
        "    contacts[name]= phone\n",
        "    print(\"contact added\")\n",
        "  else:\n",
        "    print(\"contact is not added\")\n",
        "  return\n",
        "addcontacts('tarun',7722008646)\n",
        "addcontacts('sourabh',8806322693)\n",
        "addcontacts('sourabh',8806322693)\n",
        "\n"
      ],
      "execution_count": 84,
      "outputs": [
        {
          "output_type": "stream",
          "text": [
            "contact added\n",
            "contact added\n",
            "contact is not added\n"
          ],
          "name": "stdout"
        }
      ]
    },
    {
      "cell_type": "code",
      "metadata": {
        "id": "kzsJWcCcrcek",
        "colab_type": "code",
        "colab": {
          "base_uri": "https://localhost:8080/",
          "height": 85
        },
        "outputId": "953352cb-0911-43e7-b10f-222f3fe64908"
      },
      "source": [
        "contacts"
      ],
      "execution_count": 100,
      "outputs": [
        {
          "output_type": "execute_result",
          "data": {
            "text/plain": [
              "{'sai': 900843812,\n",
              " 'shashank': 7588070624,\n",
              " 'sourabh': 8806322693,\n",
              " 'vikas': 942246885}"
            ]
          },
          "metadata": {
            "tags": []
          },
          "execution_count": 100
        }
      ]
    },
    {
      "cell_type": "code",
      "metadata": {
        "id": "kotWE5T4rhCy",
        "colab_type": "code",
        "colab": {
          "base_uri": "https://localhost:8080/",
          "height": 68
        },
        "outputId": "2dceea21-e197-495e-c314-acea118dcd38"
      },
      "source": [
        "def searchcontact(name):\n",
        "  if name in contacts:\n",
        "    print(name ,\" : \", contacts[name])\n",
        "  else:\n",
        "    print('contact is not present')\n",
        "  return\n",
        "searchcontact('tarun')\n",
        "searchcontact('sourabh')\n",
        "searchcontact('vikas')"
      ],
      "execution_count": 91,
      "outputs": [
        {
          "output_type": "stream",
          "text": [
            "tarun  :  7722008646\n",
            "sourabh  :  8806322693\n",
            "contact is not present\n"
          ],
          "name": "stdout"
        }
      ]
    },
    {
      "cell_type": "code",
      "metadata": {
        "id": "o4oP0p8uscTu",
        "colab_type": "code",
        "colab": {
          "base_uri": "https://localhost:8080/",
          "height": 34
        },
        "outputId": "94badda2-5137-4b95-b627-66a723fe2650"
      },
      "source": [
        "def importcontacts(newcontacts):\n",
        "  contacts.update(newcontacts)\n",
        "  print('new contacts are added')\n",
        "  return\n",
        "newcontacts = {\"vikas\":942246885,\"shashank\":7588070624,\"sai\":900843812}\n",
        "importcontacts(newcontacts)"
      ],
      "execution_count": 94,
      "outputs": [
        {
          "output_type": "stream",
          "text": [
            "new contacts are added\n"
          ],
          "name": "stdout"
        }
      ]
    },
    {
      "cell_type": "code",
      "metadata": {
        "id": "qdpkFPyUu9uR",
        "colab_type": "code",
        "colab": {}
      },
      "source": [
        "# define a function for update details"
      ],
      "execution_count": 0,
      "outputs": []
    },
    {
      "cell_type": "code",
      "metadata": {
        "id": "-312kI9Ovnlm",
        "colab_type": "code",
        "colab": {
          "base_uri": "https://localhost:8080/",
          "height": 51
        },
        "outputId": "931fb9b8-4f6e-46ec-aa98-459ac4330bab"
      },
      "source": [
        "def updatedetails(name,phone):\n",
        "  if name in contacts:\n",
        "    contacts[name] = phone\n",
        "    print('contact update is successful')\n",
        "  else:\n",
        "      print(\"please add new contact details\")\n",
        "  return\n",
        "updatedetails('tarun',999999999)\n",
        "updatedetails('varsha',9012848586)"
      ],
      "execution_count": 97,
      "outputs": [
        {
          "output_type": "stream",
          "text": [
            "contact update is successful\n",
            "please add new contact details\n"
          ],
          "name": "stdout"
        }
      ]
    },
    {
      "cell_type": "code",
      "metadata": {
        "id": "MIrznLEZxHau",
        "colab_type": "code",
        "colab": {
          "base_uri": "https://localhost:8080/",
          "height": 51
        },
        "outputId": "f95e7ee0-1075-4662-9d3d-4270c22f196c"
      },
      "source": [
        "def deletecontact(name):\n",
        "  if name in contacts:\n",
        "    del contacts[name]\n",
        "    print('contact is deleted')\n",
        "  else:\n",
        "      print('contact is not present')\n",
        "  return\n",
        "deletecontact('tarun')\n",
        "deletecontact('varsha')"
      ],
      "execution_count": 99,
      "outputs": [
        {
          "output_type": "stream",
          "text": [
            "contact is deleted\n",
            "contact is not present\n"
          ],
          "name": "stdout"
        }
      ]
    },
    {
      "cell_type": "code",
      "metadata": {
        "id": "5_8LKh84znTf",
        "colab_type": "code",
        "colab": {}
      },
      "source": [
        ""
      ],
      "execution_count": 0,
      "outputs": []
    },
    {
      "cell_type": "markdown",
      "metadata": {
        "id": "vWyrSv791dSq",
        "colab_type": "text"
      },
      "source": [
        "### String to list conversion\n",
        "- \"123456\"=[1,2,3,4,5,6]\n"
      ]
    },
    {
      "cell_type": "code",
      "metadata": {
        "id": "-hABAiph1sxW",
        "colab_type": "code",
        "colab": {
          "base_uri": "https://localhost:8080/",
          "height": 68
        },
        "outputId": "0ddc7376-b405-421d-8861-518abe364bde"
      },
      "source": [
        "a=input('enter the numbers')\n",
        "print(type(a))\n",
        "print(a)"
      ],
      "execution_count": 101,
      "outputs": [
        {
          "output_type": "stream",
          "text": [
            "enter the numbers123456\n",
            "<class 'str'>\n",
            "123456\n"
          ],
          "name": "stdout"
        }
      ]
    },
    {
      "cell_type": "code",
      "metadata": {
        "id": "OuftEo5W2_bt",
        "colab_type": "code",
        "colab": {
          "base_uri": "https://localhost:8080/",
          "height": 34
        },
        "outputId": "681be355-1451-45fb-d513-a99e40d8a495"
      },
      "source": [
        "s = \"application test working\"\n",
        "li=s.split()\n",
        "print(li)"
      ],
      "execution_count": 105,
      "outputs": [
        {
          "output_type": "stream",
          "text": [
            "['application', 'test', 'working']\n"
          ],
          "name": "stdout"
        }
      ]
    },
    {
      "cell_type": "code",
      "metadata": {
        "id": "kyBY2c0h4V2-",
        "colab_type": "code",
        "colab": {
          "base_uri": "https://localhost:8080/",
          "height": 34
        },
        "outputId": "8bb6f848-3222-490f-b182-23bab08f3338"
      },
      "source": [
        "s1=\"gitam hyderabad python programming\"\n",
        "li=s1.split('a')\n",
        "print(li)"
      ],
      "execution_count": 106,
      "outputs": [
        {
          "output_type": "stream",
          "text": [
            "['git', 'm hyder', 'b', 'd python progr', 'mming']\n"
          ],
          "name": "stdout"
        }
      ]
    },
    {
      "cell_type": "code",
      "metadata": {
        "id": "3aGY9T0i5Qp2",
        "colab_type": "code",
        "colab": {
          "base_uri": "https://localhost:8080/",
          "height": 34
        },
        "outputId": "3cd5ac2b-e693-4ba5-eeb5-54086170b962"
      },
      "source": [
        "def stringTOlist(s):\n",
        "  li = s.split()\n",
        "  numberlist=[]\n",
        "  for i in li:\n",
        "    numberlist.append((i))\n",
        "  return numberTolist\n",
        "stringTolist('1 2 3 4 5 6')"
      ],
      "execution_count": 122,
      "outputs": [
        {
          "output_type": "execute_result",
          "data": {
            "text/plain": [
              "[1, 2, 3, 4, 5, 6]"
            ]
          },
          "metadata": {
            "tags": []
          },
          "execution_count": 122
        }
      ]
    },
    {
      "cell_type": "code",
      "metadata": {
        "id": "9p0ed3Mi5_xS",
        "colab_type": "code",
        "colab": {}
      },
      "source": [
        ""
      ],
      "execution_count": 0,
      "outputs": []
    }
  ]
}